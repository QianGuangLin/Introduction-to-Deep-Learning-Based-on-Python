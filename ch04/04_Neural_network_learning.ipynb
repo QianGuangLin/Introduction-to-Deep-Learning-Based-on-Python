{
 "cells": [
  {
   "cell_type": "markdown",
   "metadata": {},
   "source": [
    "### 4.2  损失函数\n",
    "\n",
    "    神经网络以某个指标为线索寻找最优权重参数。神经网络的学习中所用的指标称为损失函数（loss function）。\n",
    "    \n",
    "    这个损失函数可以使用任意函数，但一般用均方误差和交叉熵误差等。"
   ]
  },
  {
   "cell_type": "markdown",
   "metadata": {},
   "source": [
    "4.2.1 均方误差\n",
    "    \n",
    "    均方误差会计算神经网络的输出和正确解监督数据的各个元素之差的平方，再求总和。\n",
    "    y 表示神经网络的输出，t 表示监督数据，k表示数据维数。\n",
    "    其中t 是监督数据，将正确解标签设为1，其他均设为0，该表示方法称为one-hot表示。"
   ]
  },
  {
   "cell_type": "markdown",
   "metadata": {},
   "source": [
    "$E = \\frac{1}{2} \\sum_{k} (y_k - t_k)^2$"
   ]
  },
  {
   "cell_type": "code",
   "execution_count": 3,
   "metadata": {},
   "outputs": [],
   "source": [
    "import numpy as np"
   ]
  },
  {
   "cell_type": "code",
   "execution_count": 4,
   "metadata": {},
   "outputs": [],
   "source": [
    "# 均方误差\n",
    "def mean_squared_error(y, t):\n",
    "    return 0.5*np.sum((y-t)**2)"
   ]
  },
  {
   "cell_type": "code",
   "execution_count": 7,
   "metadata": {},
   "outputs": [
    {
     "data": {
      "text/plain": [
       "0.09750000000000003"
      ]
     },
     "execution_count": 7,
     "metadata": {},
     "output_type": "execute_result"
    }
   ],
   "source": [
    "# 设“2”为正确解\n",
    "t = [0,0,1,0,0,0,0,0,0,0]\n",
    "\n",
    "# 例1：“2”的概率最高的情况（0.6）\n",
    "y = [0.1,0.05,0.6,0.0,0.05,0.1,0.0,0.1,0.0,0.0]\n",
    "\n",
    "mean_squared_error(np.array(y), np.array(t))"
   ]
  },
  {
   "cell_type": "code",
   "execution_count": 8,
   "metadata": {},
   "outputs": [
    {
     "data": {
      "text/plain": [
       "0.5975"
      ]
     },
     "execution_count": 8,
     "metadata": {},
     "output_type": "execute_result"
    }
   ],
   "source": [
    "# 例2：“7”的概率最高的情况（0.6）\n",
    "y = [0.1,0.05,0.1,0.0,0.05,0.1,0.0,0.6,0.0,0.0]\n",
    "mean_squared_error(np.array(y), np.array(t))"
   ]
  },
  {
   "cell_type": "markdown",
   "metadata": {},
   "source": [
    "4.2.2  交叉熵误差\n",
    "    \n",
    "    交叉熵误差实际上只计算对应正确解标签的输出的自然对数。也就是说，交叉熵误差的值是由正确解标签所对应的输出结果所决定。\n",
    "    正确解标签对应的输出越大，交叉熵的值越接近0；正确解标签对应的输出越小，交叉熵的值越大。"
   ]
  },
  {
   "cell_type": "markdown",
   "metadata": {},
   "source": [
    "$E = -\\sum_{k} t_klogy_k$"
   ]
  },
  {
   "cell_type": "code",
   "execution_count": 16,
   "metadata": {},
   "outputs": [],
   "source": [
    "# 交叉熵误差\n",
    "def cross_entropy_error(y, t):\n",
    "    delta = 1e-7 # 作为保护性对策，添加一个微小值delta可以防止负无限大的发生\n",
    "    return -np.sum(t * np.log(y + delta))"
   ]
  },
  {
   "cell_type": "code",
   "execution_count": 17,
   "metadata": {},
   "outputs": [
    {
     "data": {
      "text/plain": [
       "0.510825457099338"
      ]
     },
     "execution_count": 17,
     "metadata": {},
     "output_type": "execute_result"
    }
   ],
   "source": [
    "# 设“2”为正确解\n",
    "t = [0,0,1,0,0,0,0,0,0,0]\n",
    "\n",
    "# 例1：“2”的概率最高的情况（0.6）\n",
    "y = [0.1,0.05,0.6,0.0,0.05,0.1,0.0,0.1,0.0,0.0]\n",
    "cross_entropy_error(np.array(y), np.array(t))"
   ]
  },
  {
   "cell_type": "code",
   "execution_count": 19,
   "metadata": {},
   "outputs": [
    {
     "data": {
      "text/plain": [
       "2.302584092994546"
      ]
     },
     "execution_count": 19,
     "metadata": {},
     "output_type": "execute_result"
    }
   ],
   "source": [
    "# 例2：“7”的概率最高的情况（0.6）\n",
    "y = [0.1,0.05,0.1,0.0,0.05,0.1,0.0,0.6,0.0,0.0]\n",
    "cross_entropy_error(np.array(y), np.array(t))"
   ]
  },
  {
   "cell_type": "markdown",
   "metadata": {},
   "source": [
    "4.2.3  mini-batch 学习\n",
    "    \n",
    "    针对训练数据计算损失函数的值，找出使该值尽可能小的参数。也就是说，如果训练数据有100个的话，我们就要把这100个损失函数的总和作为学习的指标。\n",
    "    如果要求所有训练数据的损失函数的总和，以交叉熵误差为例。"
   ]
  },
  {
   "cell_type": "markdown",
   "metadata": {},
   "source": [
    "$ E = -\\frac{1}{N} \\sum_{n} \\sum_{k} t_{nk}logy_{nk} $"
   ]
  },
  {
   "cell_type": "markdown",
   "metadata": {},
   "source": [
    "上式只是把求单个数据的交叉熵误差损失函数的式子扩大到了N份数据，不过最后还要除以N进行正规化。\n",
    "\n",
    "我们将从全部数据中选出一部分，作为全部数据的近似。\n",
    "\n",
    "神经网络的学习也是从训练数据中选出一批数据（称为mini-batch，小批量），然后对每个mini-batch进行学习。"
   ]
  },
  {
   "cell_type": "code",
   "execution_count": 27,
   "metadata": {},
   "outputs": [
    {
     "name": "stdout",
     "output_type": "stream",
     "text": [
      "(60000, 784)\n",
      "(60000, 10)\n"
     ]
    }
   ],
   "source": [
    "import sys, os\n",
    "sys.path.append(os.pardir)\n",
    "import numpy as np\n",
    "from dataset.mnist import load_mnist\n",
    "\n",
    "(x_train, t_train),(x_test, t_test) = load_mnist(normalize = True, one_hot_label = True)\n",
    "\n",
    "print(x_train.shape)\n",
    "print(t_train.shape)"
   ]
  },
  {
   "cell_type": "markdown",
   "metadata": {},
   "source": [
    "读入上面MNIST数据后，训练数据有60000个，输入数据是784维（28x28）的数据数据，监督数据是10维的数据。"
   ]
  },
  {
   "cell_type": "code",
   "execution_count": 28,
   "metadata": {},
   "outputs": [],
   "source": [
    "train_size = x_train.shape[0]\n",
    "batch_size = 10\n",
    "batch_mask = np.random.choice(train_size, batch_size)\n",
    "x_batch = x_train[batch_mask]\n",
    "t_batch = t_train[batch_mask]"
   ]
  },
  {
   "cell_type": "code",
   "execution_count": 29,
   "metadata": {},
   "outputs": [
    {
     "data": {
      "text/plain": [
       "array([51871, 44407, 19844,  7131, 55094, 36652, 25610, 12223, 53596,\n",
       "       55393])"
      ]
     },
     "execution_count": 29,
     "metadata": {},
     "output_type": "execute_result"
    }
   ],
   "source": [
    "np.random.choice(60000, 10)"
   ]
  },
  {
   "cell_type": "markdown",
   "metadata": {},
   "source": [
    "用随机选择的小批量数据（mini-batch）作为全体训练数据的近似值。"
   ]
  },
  {
   "cell_type": "markdown",
   "metadata": {},
   "source": [
    "4.2.4  mini-batch版交叉熵误差的实现\n",
    "\n",
    "    "
   ]
  },
  {
   "cell_type": "markdown",
   "metadata": {},
   "source": [
    "当监督数据 t 为one-hot表示时可以通过如下代码实现："
   ]
  },
  {
   "cell_type": "code",
   "execution_count": 31,
   "metadata": {},
   "outputs": [],
   "source": [
    "def cross_entropy_error(y, t):\n",
    "    if y.ndim == 1:\n",
    "        t = t.reshape(1, t.size)\n",
    "        y = y.reshape(1, y.size)\n",
    "    \n",
    "    batch_size = y.shape[0]\n",
    "    return -np.sum(t * np.log(y + 1e-7)) / batch_size"
   ]
  },
  {
   "cell_type": "markdown",
   "metadata": {},
   "source": [
    "当监督数据 t 是标签形式（非one-hot表示，而是想“2”“7”这样的标签）时，交叉熵误差可通过如下代码实现："
   ]
  },
  {
   "cell_type": "code",
   "execution_count": 32,
   "metadata": {},
   "outputs": [],
   "source": [
    "def cross_entropy_error(y, t):\n",
    "    if y.ndim == 1:\n",
    "        t = t.reshape(1, t.size)\n",
    "        y = y.reshape(1, y.size)\n",
    "    \n",
    "    batch_size = y.shape[0]\n",
    "    return -np.sum(np.log(y[np.arange(batch.size), t] + 1e-7)) / batch_size"
   ]
  },
  {
   "cell_type": "markdown",
   "metadata": {},
   "source": [
    "4.2.5  为何要设定损失函数"
   ]
  },
  {
   "cell_type": "markdown",
   "metadata": {},
   "source": [
    "在神经网络的学习中，寻找最优参数（权重和偏置）时，要寻找使损失函数的值尽可能小的参数。\n",
    "\n",
    "为了找到使损失函数的值尽可能小的地方，需要计算参数的导数（确切地说是梯度），然后以这个导数为指引，逐步更新参数的值。\n",
    "\n",
    "在进行神经网络的学习时，不能将识别精度作为指标。因为如果以识别精度为指标，则参数的导数在绝大多数地方都会变成 0 \n",
    "\n",
    "sigmoid函数的导数在任何地方都不为 0"
   ]
  },
  {
   "cell_type": "markdown",
   "metadata": {},
   "source": [
    "#### 4.3  数值微分\n",
    "\n",
    "    利用微小的差分求导数的过程称为数值微分。"
   ]
  },
  {
   "cell_type": "markdown",
   "metadata": {},
   "source": [
    "4.3.1  导数\n",
    "\n",
    "    导数的含义是，x 的“微小变化”将导致函数f(x)的值在多大程度上发生变化，其中，表示微小变化的h无限趋近 0 "
   ]
  },
  {
   "cell_type": "code",
   "execution_count": 34,
   "metadata": {},
   "outputs": [],
   "source": [
    "# 不好的实现示例\n",
    "def numerical_diff(f, x):\n",
    "    h = 10e-50\n",
    "    return (f(x+h) - f(x)) / h"
   ]
  },
  {
   "cell_type": "markdown",
   "metadata": {},
   "source": [
    "改进1：\n",
    "\n",
    "    h使用了10e-50的微小值，会产生舍入误差，即指因省略小数的精细部分的数值（比如小数点后第8位以后的数值）而造成最终的计算结果上的误差。\n",
    "    可将微小值h改为 1e-4 # 0.0001\n",
    "\n",
    "改进2：\n",
    "\n",
    "    函数f的差分计算一开始就有误差。这个差异的出现时因为h不可能无限接近0。 \n",
    "    我们可以计算函数f在(x + h)和(x - h)之间的差分。因为这种计算方法以 x 为中心，计算它左右两边的差分，所以称为中心差分（而(x + h)和 x 之间的差分称为前向差分）"
   ]
  },
  {
   "cell_type": "code",
   "execution_count": 35,
   "metadata": {},
   "outputs": [],
   "source": [
    "def numerical_diff(f, x):\n",
    "    h = 1e-4 # 0.0001\n",
    "    return (f(x+h) - f(x-h)) / (2*h)"
   ]
  },
  {
   "cell_type": "markdown",
   "metadata": {},
   "source": [
    "4.3.2  数值微分的例子"
   ]
  },
  {
   "cell_type": "markdown",
   "metadata": {},
   "source": [
    "$ y = 0.01x^2+0.1x $"
   ]
  },
  {
   "cell_type": "code",
   "execution_count": 36,
   "metadata": {},
   "outputs": [],
   "source": [
    "def function_1(x):\n",
    "    return 0.01*x**2 + 0.1*x"
   ]
  },
  {
   "cell_type": "code",
   "execution_count": 38,
   "metadata": {},
   "outputs": [
    {
     "data": {
      "image/png": "[encoded data removed]",
      "text/plain": [
       "<Figure size 432x288 with 1 Axes>"
      ]
     },
     "metadata": {
      "needs_background": "light"
     },
     "output_type": "display_data"
    }
   ],
   "source": [
    "import numpy as np\n",
    "import matplotlib.pyplot as plt\n",
    "\n",
    "x = np.arange(0.0, 20.0, 0.1) # 以0.1为单位，从0到20的数组x\n",
    "y = function_1(x)\n",
    "plt.xlabel(\"x\")\n",
    "plt.ylabel(\"f(x)\")\n",
    "plt.plot(x, y)\n",
    "plt.show()"
   ]
  },
  {
   "cell_type": "markdown",
   "metadata": {},
   "source": [
    "计算该函数在x=5和x=10处的导数"
   ]
  },
  {
   "cell_type": "code",
   "execution_count": 39,
   "metadata": {},
   "outputs": [
    {
     "data": {
      "text/plain": [
       "0.1999999999990898"
      ]
     },
     "execution_count": 39,
     "metadata": {},
     "output_type": "execute_result"
    }
   ],
   "source": [
    "numerical_diff(function_1, 5)"
   ]
  },
  {
   "cell_type": "code",
   "execution_count": 40,
   "metadata": {},
   "outputs": [
    {
     "data": {
      "text/plain": [
       "0.2999999999986347"
      ]
     },
     "execution_count": 40,
     "metadata": {},
     "output_type": "execute_result"
    }
   ],
   "source": [
    "numerical_diff(function_1, 10)"
   ]
  },
  {
   "cell_type": "markdown",
   "metadata": {},
   "source": [
    "在x=5和x=10处，严格意义上“真正的导数”分别为0.2和0.3 。与上述相比，误差小到基本上可以认为它们是相等的。"
   ]
  },
  {
   "cell_type": "markdown",
   "metadata": {},
   "source": [
    "用上面的数值微分的值作为斜率，画一条直线"
   ]
  },
  {
   "cell_type": "code",
   "execution_count": 49,
   "metadata": {},
   "outputs": [
    {
     "name": "stdout",
     "output_type": "stream",
     "text": [
      "0.1999999999990898\n"
     ]
    },
    {
     "data": {
      "image/png": "[encoded data removed]",
      "text/plain": [
       "<Figure size 432x288 with 1 Axes>"
      ]
     },
     "metadata": {
      "needs_background": "light"
     },
     "output_type": "display_data"
    }
   ],
   "source": [
    "def tangent_line(f, x):\n",
    "    d = numerical_diff(f,x)\n",
    "    print(d)\n",
    "    y = f(x) - d*x\n",
    "    return lambda t: d*t + y\n",
    "\n",
    "x = np.arange(0.0, 20.0, 0.1)\n",
    "y = function_1(x)\n",
    "plt.xlabel(\"x\")\n",
    "plt.ylabel(\"f(x)\")\n",
    "\n",
    "tf = tangent_line(function_1, 5)\n",
    "y2 = tf(x)\n",
    "\n",
    "plt.plot(x,y)\n",
    "plt.plot(x,y2)\n",
    "plt.show()"
   ]
  },
  {
   "cell_type": "markdown",
   "metadata": {},
   "source": [
    "4.3.3  偏导数"
   ]
  },
  {
   "cell_type": "markdown",
   "metadata": {},
   "source": [
    "$ f(x_0, x_1) = x_0^2+x_1^2 $"
   ]
  },
  {
   "cell_type": "code",
   "execution_count": 50,
   "metadata": {},
   "outputs": [],
   "source": [
    "def function_2(x):\n",
    "    return x[0]**2 + x[1]**2\n",
    "    # 或者 return np.sum(x**2)"
   ]
  },
  {
   "cell_type": "code",
   "execution_count": 54,
   "metadata": {},
   "outputs": [
    {
     "data": {
      "text/plain": [
       "6.00000000000378"
      ]
     },
     "execution_count": 54,
     "metadata": {},
     "output_type": "execute_result"
    }
   ],
   "source": [
    "# x0=3,x1=4时，求x0的偏导数\n",
    "def function_tmp1(x0):\n",
    "    return x0*x0 + 4.0**2.0\n",
    "\n",
    "numerical_diff(function_tmp1, 3.0)"
   ]
  },
  {
   "cell_type": "code",
   "execution_count": 53,
   "metadata": {},
   "outputs": [
    {
     "data": {
      "text/plain": [
       "7.999999999999119"
      ]
     },
     "execution_count": 53,
     "metadata": {},
     "output_type": "execute_result"
    }
   ],
   "source": [
    "# x0=3,x1=4时，求x1的偏导数\n",
    "def function_tmp2(x1):\n",
    "    return 3.0**2.0 + x1*x1\n",
    "\n",
    "numerical_diff(function_tmp2, 4.0)"
   ]
  },
  {
   "cell_type": "markdown",
   "metadata": {},
   "source": [
    "#### 4.4 梯度"
   ]
  },
  {
   "cell_type": "markdown",
   "metadata": {},
   "source": [
    "现在考虑一起计算x0与x1的偏导数。\n",
    "像$ (\\frac{\\partial f}{\\partial x_0}, \\frac{\\partial f}{\\partial x_1}) $ 这样的由全部变量的偏导数汇总而成的向量称为 梯度 。"
   ]
  },
  {
   "cell_type": "code",
   "execution_count": 59,
   "metadata": {},
   "outputs": [],
   "source": [
    "def numerical_gradient(f,x):\n",
    "    h = 1e-4 # 0.0001\n",
    "    grad = np.zeros_like(x) # 生成和 x 形状相同、所有元素都为 0 的数组\n",
    "    \n",
    "    for idx in range(x.size):\n",
    "        tmp_val = x[idx]\n",
    "        # f(x+h)的计算\n",
    "        x[idx] = tmp_val + h\n",
    "        fxh1 = f(x)\n",
    "        \n",
    "        # f(x-h)的计算\n",
    "        x[idx] = tmp_val - h\n",
    "        fxh2 = f(x)\n",
    "        \n",
    "        grad[idx] = (fxh1 - fxh2) / (2*h)\n",
    "        x[idx] = tmp_val # 还原值\n",
    "        \n",
    "    return grad"
   ]
  },
  {
   "cell_type": "code",
   "execution_count": 60,
   "metadata": {},
   "outputs": [
    {
     "data": {
      "text/plain": [
       "array([6., 8.])"
      ]
     },
     "execution_count": 60,
     "metadata": {},
     "output_type": "execute_result"
    }
   ],
   "source": [
    "numerical_gradient(function_2, np.array([3.0,4.0]))"
   ]
  },
  {
   "cell_type": "code",
   "execution_count": 61,
   "metadata": {},
   "outputs": [
    {
     "data": {
      "text/plain": [
       "array([0., 4.])"
      ]
     },
     "execution_count": 61,
     "metadata": {},
     "output_type": "execute_result"
    }
   ],
   "source": [
    "numerical_gradient(function_2, np.array([0.0,2.0]))"
   ]
  },
  {
   "cell_type": "code",
   "execution_count": 62,
   "metadata": {},
   "outputs": [
    {
     "data": {
      "text/plain": [
       "array([6., 0.])"
      ]
     },
     "execution_count": 62,
     "metadata": {},
     "output_type": "execute_result"
    }
   ],
   "source": [
    "numerical_gradient(function_2, np.array([3.0,0.0]))"
   ]
  },
  {
   "cell_type": "markdown",
   "metadata": {},
   "source": [
    "把 $ f(x_0 + x_1)=x_0^2 + x_1^2 $ 的梯度画在图上"
   ]
  },
  {
   "cell_type": "code",
   "execution_count": 80,
   "metadata": {},
   "outputs": [
    {
     "name": "stderr",
     "output_type": "stream",
     "text": [
      "No handles with labels found to put in legend.\n"
     ]
    },
    {
     "data": {
      "image/png": "[encoded data removed]",
      "text/plain": [
       "<Figure size 432x288 with 1 Axes>"
      ]
     },
     "metadata": {
      "needs_background": "light"
     },
     "output_type": "display_data"
    }
   ],
   "source": [
    "import numpy as np\n",
    "import matplotlib.pylab as plt\n",
    "from mpl_toolkits.mplot3d import Axes3D\n",
    "\n",
    "def _numerical_gradient_no_batch(f, x):\n",
    "    h = 1e-4 # 0.0001\n",
    "    grad = np.zeros_like(x)\n",
    "    \n",
    "    for idx in range(x.size):\n",
    "        tmp_val = x[idx]\n",
    "        x[idx] = float(tmp_val) + h\n",
    "        fxh1 = f(x) # f(x+h)\n",
    "        \n",
    "        x[idx] = tmp_val - h\n",
    "        fxh2 = f(x) # f(x-h)\n",
    "        grad[idx] = (fxh1 - fxh2) / (2*h)\n",
    "        \n",
    "        x[idx] = tmp_val # 还原值\n",
    "        \n",
    "    return grad \n",
    "      \n",
    "def numerical_gradient(f, X):\n",
    "    if X.ndim == 1:\n",
    "        return _numerical_gradient_no_batch(f, X)\n",
    "    else:\n",
    "        grad = np.zeros_like(X)\n",
    "        \n",
    "        for idx, x in enumerate(X):\n",
    "            grad[idx] = _numerical_gradient_no_batch(f, x)\n",
    "        \n",
    "        return grad\n",
    "\n",
    "def function_2(x):\n",
    "    if x.ndim == 1:\n",
    "        return np.sum(x**2)\n",
    "    else:\n",
    "        return np.sum(x**2, axis=1)\n",
    "    \n",
    "def tangent_line(f, x):\n",
    "    d = numerical_gradient(f, x)\n",
    "    print(d)\n",
    "    y = f(x) - d*x\n",
    "    return lambda t: d*t + y\n",
    "\n",
    "if __name__ == '__main__':\n",
    "    x0 = np.arange(-2, 2.5, 0.25)\n",
    "    x1 = np.arange(-2, 2.5, 0.25)\n",
    "    X, Y = np.meshgrid(x0, x1)\n",
    "    \n",
    "    X = X.flatten()\n",
    "    Y = Y.flatten()\n",
    "    \n",
    "    grad = numerical_gradient(function_2, np.array([X, Y]) )\n",
    "    \n",
    "    plt.figure()\n",
    "    plt.quiver(X, Y, -grad[0], -grad[1],  angles=\"xy\",color=\"#666666\")#,headwidth=10,scale=40,color=\"#444444\")\n",
    "    plt.xlim([-2, 2])\n",
    "    plt.ylim([-2, 2])\n",
    "    plt.xlabel('x0')\n",
    "    plt.ylabel('x1')\n",
    "    plt.grid()\n",
    "    plt.legend()\n",
    "    plt.draw()\n",
    "    plt.show()"
   ]
  },
  {
   "cell_type": "markdown",
   "metadata": {},
   "source": [
    "4.4.1  梯度法\n",
    "\n",
    "    梯度表示的是各点处的函数值减小最多的方向。\n",
    "    实际上，在复杂的函数中，梯度指示的方向基本上都不是函数值最小处。\n",
    "    虽然梯度的方向并不一定指向最小值，但沿着它的方向能够最大限度地减小函数的值。\n",
    "    通过不断的沿着梯度方向前进，逐渐减小函数值的过程就是梯度法。"
   ]
  },
  {
   "cell_type": "markdown",
   "metadata": {},
   "source": [
    "$ x_0 = x_0 - \\eta \\frac{\\partial f }{\\partial x_0} $\n",
    "\n",
    "$ x_1 = x_1 - \\eta \\frac{\\partial f }{\\partial x_1} $"
   ]
  },
  {
   "cell_type": "markdown",
   "metadata": {},
   "source": [
    "上式中的 $\\eta $ 表示更新量，在神经网络的学习中，称为学习量(Learning rate)。学习率决定在一次学习中，应该学习多少，以及在多大程度上更新参数。\n",
    "\n",
    "学习率需要事先确定未某个值。在神经网络的学习中，一般会一边改变学习率的值，一边确认学习是否正确进行。"
   ]
  },
  {
   "cell_type": "code",
   "execution_count": 82,
   "metadata": {},
   "outputs": [],
   "source": [
    "# 求函数f的梯度\n",
    "def numerical_gradient(f,x):\n",
    "    h = 1e-4 # 0.0001\n",
    "    grad = np.zeros_like(x) # 生成和 x 形状相同、所有元素都为 0 的数组\n",
    "    \n",
    "    for idx in range(x.size):\n",
    "        tmp_val = x[idx]\n",
    "        # f(x+h)的计算\n",
    "        x[idx] = tmp_val + h\n",
    "        fxh1 = f(x)\n",
    "        \n",
    "        # f(x-h)的计算\n",
    "        x[idx] = tmp_val - h\n",
    "        fxh2 = f(x)\n",
    "        \n",
    "        grad[idx] = (fxh1 - fxh2) / (2*h)\n",
    "        x[idx] = tmp_val # 还原值\n",
    "        \n",
    "    return grad"
   ]
  },
  {
   "cell_type": "code",
   "execution_count": 83,
   "metadata": {},
   "outputs": [],
   "source": [
    "# 梯度下降法\n",
    "def gradient_descent(f, init_x, lr=0.01, step_num = 100):\n",
    "    x = init_x # init_x是初始值\n",
    "    \n",
    "    for i in range(step_num): # step_num\n",
    "        grad = numerical_gradient(f, x) # 求梯度\n",
    "        x -= lr * grad # ls是学习率learning rate\n",
    "        \n",
    "    return x"
   ]
  },
  {
   "cell_type": "markdown",
   "metadata": {},
   "source": [
    "用梯度法求 $ f(x_0 + x_1)=x_0^2+x_1^2 $ 的最小值"
   ]
  },
  {
   "cell_type": "code",
   "execution_count": 84,
   "metadata": {},
   "outputs": [
    {
     "data": {
      "text/plain": [
       "array([-6.31481153e-10,  8.14814391e-10])"
      ]
     },
     "execution_count": 84,
     "metadata": {},
     "output_type": "execute_result"
    }
   ],
   "source": [
    "def function_2(x):\\\n",
    "    return x[0]**2+x[1]**2\n",
    "\n",
    "init_x = np.array([-3.1, 4.0])\n",
    "gradient_descent(function_2, init_x=init_x,lr=0.1,step_num=100)"
   ]
  },
  {
   "cell_type": "markdown",
   "metadata": {},
   "source": [
    "用图来表示梯度法的更新过程"
   ]
  },
  {
   "cell_type": "code",
   "execution_count": 91,
   "metadata": {},
   "outputs": [
    {
     "data": {
      "image/png": "[encoded data removed]",
      "text/plain": [
       "<Figure size 432x288 with 1 Axes>"
      ]
     },
     "metadata": {
      "needs_background": "light"
     },
     "output_type": "display_data"
    }
   ],
   "source": [
    "# coding: utf-8\n",
    "import numpy as np\n",
    "import matplotlib.pylab as plt\n",
    "# from gradient_2d import numerical_gradient\n",
    "\n",
    "# 求函数f的梯度\n",
    "def numerical_gradient(f,x):\n",
    "    h = 1e-4 # 0.0001\n",
    "    grad = np.zeros_like(x) # 生成和 x 形状相同、所有元素都为 0 的数组\n",
    "    \n",
    "    for idx in range(x.size):\n",
    "        tmp_val = x[idx]\n",
    "        # f(x+h)的计算\n",
    "        x[idx] = tmp_val + h\n",
    "        fxh1 = f(x)\n",
    "        \n",
    "        # f(x-h)的计算\n",
    "        x[idx] = tmp_val - h\n",
    "        fxh2 = f(x)\n",
    "        \n",
    "        grad[idx] = (fxh1 - fxh2) / (2*h)\n",
    "        x[idx] = tmp_val # 还原值\n",
    "        \n",
    "    return grad\n",
    "\n",
    "def gradient_descent(f, init_x, lr=0.01, step_num=100):\n",
    "    x = init_x\n",
    "    x_history = []\n",
    "\n",
    "    for i in range(step_num):\n",
    "        x_history.append( x.copy() )\n",
    "\n",
    "        grad = numerical_gradient(f, x)\n",
    "        x -= lr * grad\n",
    "\n",
    "    return x, np.array(x_history)\n",
    "\n",
    "\n",
    "def function_2(x):\n",
    "    return x[0]**2 + x[1]**2\n",
    "\n",
    "init_x = np.array([-3.0, 4.0])    \n",
    "\n",
    "lr = 0.1\n",
    "step_num = 20\n",
    "x, x_history = gradient_descent(function_2, init_x, lr=lr, step_num=step_num)\n",
    "\n",
    "plt.plot( [-5, 5], [0,0], '--b')\n",
    "plt.plot( [0,0], [-5, 5], '--b')\n",
    "plt.plot(x_history[:,0], x_history[:,1], 'o')\n",
    "\n",
    "plt.xlim(-3.5, 3.5)\n",
    "plt.ylim(-4.5, 4.5)\n",
    "plt.xlabel(\"X0\")\n",
    "plt.ylabel(\"X1\")\n",
    "plt.show()"
   ]
  },
  {
   "cell_type": "code",
   "execution_count": 92,
   "metadata": {},
   "outputs": [
    {
     "data": {
      "text/plain": [
       "(array([-2.58983747e+13, -1.29524862e+12]),\n",
       " array([[-3.00000000e+00,  4.00000000e+00],\n",
       "        [ 5.70000000e+01, -7.60000000e+01],\n",
       "        [-1.08300000e+03,  1.44400000e+03],\n",
       "        [ 2.05770000e+04, -2.74360000e+04],\n",
       "        [-3.90963008e+05,  5.21284002e+05],\n",
       "        [ 7.42829664e+06, -9.90439654e+06],\n",
       "        [-1.41137328e+08,  1.88183103e+08],\n",
       "        [ 2.68126267e+09, -3.57501690e+09],\n",
       "        [-5.09763373e+10,  6.79001831e+10],\n",
       "        [ 9.45170863e+11, -1.29524862e+12],\n",
       "        [-2.58983747e+13, -1.29524862e+12],\n",
       "        [-2.58983747e+13, -1.29524862e+12],\n",
       "        [-2.58983747e+13, -1.29524862e+12],\n",
       "        [-2.58983747e+13, -1.29524862e+12],\n",
       "        [-2.58983747e+13, -1.29524862e+12],\n",
       "        [-2.58983747e+13, -1.29524862e+12],\n",
       "        [-2.58983747e+13, -1.29524862e+12],\n",
       "        [-2.58983747e+13, -1.29524862e+12],\n",
       "        [-2.58983747e+13, -1.29524862e+12],\n",
       "        [-2.58983747e+13, -1.29524862e+12],\n",
       "        [-2.58983747e+13, -1.29524862e+12],\n",
       "        [-2.58983747e+13, -1.29524862e+12],\n",
       "        [-2.58983747e+13, -1.29524862e+12],\n",
       "        [-2.58983747e+13, -1.29524862e+12],\n",
       "        [-2.58983747e+13, -1.29524862e+12],\n",
       "        [-2.58983747e+13, -1.29524862e+12],\n",
       "        [-2.58983747e+13, -1.29524862e+12],\n",
       "        [-2.58983747e+13, -1.29524862e+12],\n",
       "        [-2.58983747e+13, -1.29524862e+12],\n",
       "        [-2.58983747e+13, -1.29524862e+12],\n",
       "        [-2.58983747e+13, -1.29524862e+12],\n",
       "        [-2.58983747e+13, -1.29524862e+12],\n",
       "        [-2.58983747e+13, -1.29524862e+12],\n",
       "        [-2.58983747e+13, -1.29524862e+12],\n",
       "        [-2.58983747e+13, -1.29524862e+12],\n",
       "        [-2.58983747e+13, -1.29524862e+12],\n",
       "        [-2.58983747e+13, -1.29524862e+12],\n",
       "        [-2.58983747e+13, -1.29524862e+12],\n",
       "        [-2.58983747e+13, -1.29524862e+12],\n",
       "        [-2.58983747e+13, -1.29524862e+12],\n",
       "        [-2.58983747e+13, -1.29524862e+12],\n",
       "        [-2.58983747e+13, -1.29524862e+12],\n",
       "        [-2.58983747e+13, -1.29524862e+12],\n",
       "        [-2.58983747e+13, -1.29524862e+12],\n",
       "        [-2.58983747e+13, -1.29524862e+12],\n",
       "        [-2.58983747e+13, -1.29524862e+12],\n",
       "        [-2.58983747e+13, -1.29524862e+12],\n",
       "        [-2.58983747e+13, -1.29524862e+12],\n",
       "        [-2.58983747e+13, -1.29524862e+12],\n",
       "        [-2.58983747e+13, -1.29524862e+12],\n",
       "        [-2.58983747e+13, -1.29524862e+12],\n",
       "        [-2.58983747e+13, -1.29524862e+12],\n",
       "        [-2.58983747e+13, -1.29524862e+12],\n",
       "        [-2.58983747e+13, -1.29524862e+12],\n",
       "        [-2.58983747e+13, -1.29524862e+12],\n",
       "        [-2.58983747e+13, -1.29524862e+12],\n",
       "        [-2.58983747e+13, -1.29524862e+12],\n",
       "        [-2.58983747e+13, -1.29524862e+12],\n",
       "        [-2.58983747e+13, -1.29524862e+12],\n",
       "        [-2.58983747e+13, -1.29524862e+12],\n",
       "        [-2.58983747e+13, -1.29524862e+12],\n",
       "        [-2.58983747e+13, -1.29524862e+12],\n",
       "        [-2.58983747e+13, -1.29524862e+12],\n",
       "        [-2.58983747e+13, -1.29524862e+12],\n",
       "        [-2.58983747e+13, -1.29524862e+12],\n",
       "        [-2.58983747e+13, -1.29524862e+12],\n",
       "        [-2.58983747e+13, -1.29524862e+12],\n",
       "        [-2.58983747e+13, -1.29524862e+12],\n",
       "        [-2.58983747e+13, -1.29524862e+12],\n",
       "        [-2.58983747e+13, -1.29524862e+12],\n",
       "        [-2.58983747e+13, -1.29524862e+12],\n",
       "        [-2.58983747e+13, -1.29524862e+12],\n",
       "        [-2.58983747e+13, -1.29524862e+12],\n",
       "        [-2.58983747e+13, -1.29524862e+12],\n",
       "        [-2.58983747e+13, -1.29524862e+12],\n",
       "        [-2.58983747e+13, -1.29524862e+12],\n",
       "        [-2.58983747e+13, -1.29524862e+12],\n",
       "        [-2.58983747e+13, -1.29524862e+12],\n",
       "        [-2.58983747e+13, -1.29524862e+12],\n",
       "        [-2.58983747e+13, -1.29524862e+12],\n",
       "        [-2.58983747e+13, -1.29524862e+12],\n",
       "        [-2.58983747e+13, -1.29524862e+12],\n",
       "        [-2.58983747e+13, -1.29524862e+12],\n",
       "        [-2.58983747e+13, -1.29524862e+12],\n",
       "        [-2.58983747e+13, -1.29524862e+12],\n",
       "        [-2.58983747e+13, -1.29524862e+12],\n",
       "        [-2.58983747e+13, -1.29524862e+12],\n",
       "        [-2.58983747e+13, -1.29524862e+12],\n",
       "        [-2.58983747e+13, -1.29524862e+12],\n",
       "        [-2.58983747e+13, -1.29524862e+12],\n",
       "        [-2.58983747e+13, -1.29524862e+12],\n",
       "        [-2.58983747e+13, -1.29524862e+12],\n",
       "        [-2.58983747e+13, -1.29524862e+12],\n",
       "        [-2.58983747e+13, -1.29524862e+12],\n",
       "        [-2.58983747e+13, -1.29524862e+12],\n",
       "        [-2.58983747e+13, -1.29524862e+12],\n",
       "        [-2.58983747e+13, -1.29524862e+12],\n",
       "        [-2.58983747e+13, -1.29524862e+12],\n",
       "        [-2.58983747e+13, -1.29524862e+12],\n",
       "        [-2.58983747e+13, -1.29524862e+12]]))"
      ]
     },
     "execution_count": 92,
     "metadata": {},
     "output_type": "execute_result"
    }
   ],
   "source": [
    "# 学习率过大的例子：lr=10.0\n",
    "init_x = np.array([-3.0,4.0])\n",
    "gradient_descent(function_2,init_x=init_x,lr=10.0,step_num=100)"
   ]
  },
  {
   "cell_type": "code",
   "execution_count": 93,
   "metadata": {},
   "outputs": [
    {
     "data": {
      "text/plain": [
       "(array([-2.99999994,  3.99999992]), array([[-3.        ,  4.        ],\n",
       "        [-3.        ,  4.        ],\n",
       "        [-3.        ,  4.        ],\n",
       "        [-3.        ,  4.        ],\n",
       "        [-3.        ,  4.        ],\n",
       "        [-3.        ,  4.        ],\n",
       "        [-3.        ,  4.        ],\n",
       "        [-3.        ,  3.99999999],\n",
       "        [-3.        ,  3.99999999],\n",
       "        [-2.99999999,  3.99999999],\n",
       "        [-2.99999999,  3.99999999],\n",
       "        [-2.99999999,  3.99999999],\n",
       "        [-2.99999999,  3.99999999],\n",
       "        [-2.99999999,  3.99999999],\n",
       "        [-2.99999999,  3.99999999],\n",
       "        [-2.99999999,  3.99999999],\n",
       "        [-2.99999999,  3.99999999],\n",
       "        [-2.99999999,  3.99999999],\n",
       "        [-2.99999999,  3.99999999],\n",
       "        [-2.99999999,  3.99999998],\n",
       "        [-2.99999999,  3.99999998],\n",
       "        [-2.99999999,  3.99999998],\n",
       "        [-2.99999999,  3.99999998],\n",
       "        [-2.99999999,  3.99999998],\n",
       "        [-2.99999999,  3.99999998],\n",
       "        [-2.99999998,  3.99999998],\n",
       "        [-2.99999998,  3.99999998],\n",
       "        [-2.99999998,  3.99999998],\n",
       "        [-2.99999998,  3.99999998],\n",
       "        [-2.99999998,  3.99999998],\n",
       "        [-2.99999998,  3.99999998],\n",
       "        [-2.99999998,  3.99999998],\n",
       "        [-2.99999998,  3.99999997],\n",
       "        [-2.99999998,  3.99999997],\n",
       "        [-2.99999998,  3.99999997],\n",
       "        [-2.99999998,  3.99999997],\n",
       "        [-2.99999998,  3.99999997],\n",
       "        [-2.99999998,  3.99999997],\n",
       "        [-2.99999998,  3.99999997],\n",
       "        [-2.99999998,  3.99999997],\n",
       "        [-2.99999998,  3.99999997],\n",
       "        [-2.99999998,  3.99999997],\n",
       "        [-2.99999997,  3.99999997],\n",
       "        [-2.99999997,  3.99999997],\n",
       "        [-2.99999997,  3.99999996],\n",
       "        [-2.99999997,  3.99999996],\n",
       "        [-2.99999997,  3.99999996],\n",
       "        [-2.99999997,  3.99999996],\n",
       "        [-2.99999997,  3.99999996],\n",
       "        [-2.99999997,  3.99999996],\n",
       "        [-2.99999997,  3.99999996],\n",
       "        [-2.99999997,  3.99999996],\n",
       "        [-2.99999997,  3.99999996],\n",
       "        [-2.99999997,  3.99999996],\n",
       "        [-2.99999997,  3.99999996],\n",
       "        [-2.99999997,  3.99999996],\n",
       "        [-2.99999997,  3.99999996],\n",
       "        [-2.99999997,  3.99999995],\n",
       "        [-2.99999997,  3.99999995],\n",
       "        [-2.99999996,  3.99999995],\n",
       "        [-2.99999996,  3.99999995],\n",
       "        [-2.99999996,  3.99999995],\n",
       "        [-2.99999996,  3.99999995],\n",
       "        [-2.99999996,  3.99999995],\n",
       "        [-2.99999996,  3.99999995],\n",
       "        [-2.99999996,  3.99999995],\n",
       "        [-2.99999996,  3.99999995],\n",
       "        [-2.99999996,  3.99999995],\n",
       "        [-2.99999996,  3.99999995],\n",
       "        [-2.99999996,  3.99999994],\n",
       "        [-2.99999996,  3.99999994],\n",
       "        [-2.99999996,  3.99999994],\n",
       "        [-2.99999996,  3.99999994],\n",
       "        [-2.99999996,  3.99999994],\n",
       "        [-2.99999996,  3.99999994],\n",
       "        [-2.99999995,  3.99999994],\n",
       "        [-2.99999995,  3.99999994],\n",
       "        [-2.99999995,  3.99999994],\n",
       "        [-2.99999995,  3.99999994],\n",
       "        [-2.99999995,  3.99999994],\n",
       "        [-2.99999995,  3.99999994],\n",
       "        [-2.99999995,  3.99999994],\n",
       "        [-2.99999995,  3.99999993],\n",
       "        [-2.99999995,  3.99999993],\n",
       "        [-2.99999995,  3.99999993],\n",
       "        [-2.99999995,  3.99999993],\n",
       "        [-2.99999995,  3.99999993],\n",
       "        [-2.99999995,  3.99999993],\n",
       "        [-2.99999995,  3.99999993],\n",
       "        [-2.99999995,  3.99999993],\n",
       "        [-2.99999995,  3.99999993],\n",
       "        [-2.99999995,  3.99999993],\n",
       "        [-2.99999994,  3.99999993],\n",
       "        [-2.99999994,  3.99999993],\n",
       "        [-2.99999994,  3.99999992],\n",
       "        [-2.99999994,  3.99999992],\n",
       "        [-2.99999994,  3.99999992],\n",
       "        [-2.99999994,  3.99999992],\n",
       "        [-2.99999994,  3.99999992],\n",
       "        [-2.99999994,  3.99999992]]))"
      ]
     },
     "execution_count": 93,
     "metadata": {},
     "output_type": "execute_result"
    }
   ],
   "source": [
    "# 学习率过小的例子：lr=1e-10\n",
    "init_x = np.array([-3.0,4.0])\n",
    "gradient_descent(function_2,init_x=init_x,lr=1e-10,step_num=100)"
   ]
  },
  {
   "cell_type": "markdown",
   "metadata": {},
   "source": [
    "设定合适都得学习率是一个很重要的问题。\n",
    "\n",
    "像学习率这样的参数称为超参数。相对于神经网络的权重参数是通过训练数据和学习算法自动获得的，学习率这样的超参数则是人工设定的。"
   ]
  },
  {
   "cell_type": "markdown",
   "metadata": {},
   "source": [
    "4.4.2  神经网络的梯度\n",
    "\n",
    "    神经网络的学习也要求梯度，这里所说的梯度是指损失函数关于权重参数的梯度。"
   ]
  },
  {
   "cell_type": "code",
   "execution_count": 126,
   "metadata": {},
   "outputs": [],
   "source": [
    "import sys,os\n",
    "sys.path.append(os.pardir)\n",
    "import numpy as np\n",
    "from common.functions import softmax, cross_entropy_error\n",
    "from common.gradient import numerical_gradient\n",
    "\n",
    "class simpleNet:\n",
    "    def __init__(self):\n",
    "        self.W = np.random.randn(2,3) # 用高斯分布进行初始化\n",
    "        \n",
    "    def predict(self, x):\n",
    "        return np.dot(x, self.W) # 点积\n",
    "    \n",
    "    def loss(self, x, t):\n",
    "        z = self.predict(x)\n",
    "        y = softmax(z)\n",
    "        loss = cross_entropy_error(y, t)\n",
    "        \n",
    "        return loss"
   ]
  },
  {
   "cell_type": "code",
   "execution_count": 127,
   "metadata": {},
   "outputs": [
    {
     "name": "stdout",
     "output_type": "stream",
     "text": [
      "[[-0.04296809  0.26313277  0.93494089]\n",
      " [ 0.69117613 -0.89949683 -0.10348876]]\n"
     ]
    }
   ],
   "source": [
    "net = simpleNet()\n",
    "print(net.W) # 权重参数"
   ]
  },
  {
   "cell_type": "code",
   "execution_count": 128,
   "metadata": {},
   "outputs": [
    {
     "name": "stdout",
     "output_type": "stream",
     "text": [
      "[ 0.59627767 -0.65166748  0.46782465]\n"
     ]
    }
   ],
   "source": [
    "x = np.array([0.6,0.9])\n",
    "p = net.predict(x)\n",
    "print(p)"
   ]
  },
  {
   "cell_type": "code",
   "execution_count": 129,
   "metadata": {},
   "outputs": [
    {
     "data": {
      "text/plain": [
       "0"
      ]
     },
     "execution_count": 129,
     "metadata": {},
     "output_type": "execute_result"
    }
   ],
   "source": [
    "np.argmax(p) # 最大值的索引"
   ]
  },
  {
   "cell_type": "code",
   "execution_count": 130,
   "metadata": {},
   "outputs": [
    {
     "data": {
      "text/plain": [
       "0.9015883539439637"
      ]
     },
     "execution_count": 130,
     "metadata": {},
     "output_type": "execute_result"
    }
   ],
   "source": [
    "t = np.array([0,0,1]) # 正确解标签\n",
    "net.loss(x,t)"
   ]
  },
  {
   "cell_type": "code",
   "execution_count": 132,
   "metadata": {},
   "outputs": [
    {
     "name": "stdout",
     "output_type": "stream",
     "text": [
      "[[ 0.27693805  0.07950729 -0.35644533]\n",
      " [ 0.41540707  0.11926093 -0.534668  ]]\n"
     ]
    }
   ],
   "source": [
    "def f(W):\n",
    "    return net.loss(x,t)\n",
    "\n",
    "dW = numerical_gradient(f, net.W)\n",
    "print(dW)"
   ]
  },
  {
   "cell_type": "code",
   "execution_count": 133,
   "metadata": {},
   "outputs": [],
   "source": [
    "f = lambda w: net.loss(x,t)\n",
    "dW = numerical_gradient(f, net.W)"
   ]
  },
  {
   "cell_type": "markdown",
   "metadata": {},
   "source": [
    "#### 4.5 学习算法的实现\n",
    "\n",
    "    神经网络的学习步骤如下所示："
   ]
  },
  {
   "cell_type": "markdown",
   "metadata": {},
   "source": [
    "##### 前提\n",
    "\n",
    "神经网络存在合适的权重和偏置，调整权重和偏置以便拟合训练数据的过程称为“学习”。神经网络的学习分成下面4个步骤。"
   ]
  },
  {
   "cell_type": "markdown",
   "metadata": {},
   "source": [
    "##### 步骤 1 （mini-batch）\n",
    "\n",
    "从训练数据中随机选出一部分数据，这部分数据称为 mini-batch 。我们的目标是减小 mini-batch 的损失函数的值。"
   ]
  },
  {
   "cell_type": "markdown",
   "metadata": {},
   "source": [
    "##### 步骤 2 （计算梯度）\n",
    "\n",
    "为了减小 mini-batch 的损失函数的值，需要求出各个权重参数的梯度。梯度表示损失函数的值减小最多的方向。"
   ]
  },
  {
   "cell_type": "markdown",
   "metadata": {},
   "source": [
    "##### 步骤3 （更新参数）\n",
    "\n",
    "将权重参数沿梯度方向进行微小更新"
   ]
  },
  {
   "cell_type": "markdown",
   "metadata": {},
   "source": [
    "##### 步骤 4 （重复）\n",
    "\n",
    "重复步骤1、步骤2、步骤3 "
   ]
  },
  {
   "cell_type": "markdown",
   "metadata": {},
   "source": [
    "这个方法通过梯度下降法更新参数，不过因为这里使用的数据是随机选择的 mini-batch 数据，所以又称为 随机梯度下降法（stochastic gradient descent）\n",
    "\n",
    "随机梯度下降法是“对随机选择的数据进行梯度下降法”。\n",
    "\n",
    "深度学习的很多框架中，随机梯度下降法一般由一个名为 SGD 的函数来实现。"
   ]
  },
  {
   "cell_type": "markdown",
   "metadata": {},
   "source": [
    "实现手写数字识别的神经网络，这里以 2 层神经网络(隐藏层为1层的网络)为对象，使用MNIST数据集进行学习。"
   ]
  },
  {
   "cell_type": "markdown",
   "metadata": {},
   "source": [
    "4.5.1  2层神经网络的类"
   ]
  },
  {
   "cell_type": "code",
   "execution_count": 5,
   "metadata": {},
   "outputs": [],
   "source": [
    "import sys,os\n",
    "sys.path.append(os.pardir) # 为了导入父目录的文件而进行的设定\n",
    "from common.functions import *\n",
    "from common.gradient import numerical_gradient\n",
    "\n",
    "class TwoLayerNet:\n",
    "    \n",
    "    def __init__(self, input_size, hidden_size, output_size, weight_init_std = 0.01):\n",
    "            # 初始化权重     输入层神经元，隐藏层神经元，输出层神经元，0.01\n",
    "        self.params = {}\n",
    "        self.params['W1'] = weight_init_std * np.random.randn(input_size, hidden_size) # 高斯分布随机数\n",
    "        self.params['b1'] = np.zeros(hidden_size) # 设置0\n",
    "        self.params['W2'] = weight_init_std * np.random.randn(hidden_size, output_size) # 高斯分布随机数\n",
    "        self.params['b2'] = np.zeros(output_size) # 设置0\n",
    "        \n",
    "    def predict(self, x):\n",
    "        # 进行推理（识别）\n",
    "        W1, W2 = self.params['W1'], self.params['W2'] # 权重\n",
    "        b1, b2 = self.params['b1'], self.params['b2'] # 偏置\n",
    "        \n",
    "        a1 = np.dot(x, W1)+b1 # 点积+偏置\n",
    "        z1 = sigmoid(a1) # sigmoid函数\n",
    "        a2 = np.dot(z1, W2)+b2 # 点积+偏置\n",
    "        y = softmax(a2) # softwax函数\n",
    "        \n",
    "        return y\n",
    "    \n",
    "    # x: 输入数据；t：监督数据\n",
    "    def loss(self, x, t):\n",
    "        # 计算损失函数的值\n",
    "        y = self.predict(x) # 进行推理\n",
    "        return cross_entropy_error(y, t) # 交叉熵代价函数 y：输出结果。t：监督数据\n",
    "    \n",
    "    def accuracy(self, x, t):\n",
    "        # 计算识别精度\n",
    "        y = self.predict(x) # 进行推理\n",
    "        y = np.argmax(y, axis=1) # 最大值的索引\n",
    "        t = np.argmax(t, axis=1) # 最大值的索引\n",
    "        \n",
    "        accuracy = np.sum(y == t) / float(x.shape[0]) # 计算识别率\n",
    "        return accuracy\n",
    "    \n",
    "    # x：输入数据；t：监督数据\n",
    "    def numerical_gradient(self, x, t):\n",
    "        # 计算权重参数的梯度\n",
    "        loss_W = lambda W: self.loss(x, t) # 匿名函数输入w输出net.loss(x, t)（计算损失函数的值）\n",
    "        \n",
    "        grads = {}\n",
    "        grads['W1'] = numerical_gradient(loss_W, self.params['W1']) # 计算权重参数的梯度\n",
    "        grads['b1'] = numerical_gradient(loss_W, self.params['b1'])\n",
    "        grads['W2'] = numerical_gradient(loss_W, self.params['W2'])\n",
    "        grads['b2'] = numerical_gradient(loss_W, self.params['b2'])\n",
    "        \n",
    "        return grads\n",
    "    \n",
    "    def gradient(self, x, t):\n",
    "        # 计算权重参数的梯度，numerical_gradient()的高速版\n",
    "        W1, W2 = self.params['W1'], self.params['W2'] # 权重\n",
    "        b1, b2 = self.params['b1'], self.params['b2'] # 偏置\n",
    "        grads = {} # 梯度\n",
    "        \n",
    "        batch_num = x.shape[0]\n",
    "        \n",
    "        # forward\n",
    "        a1 = np.dot(x, W1) + b1 # 点积+偏置\n",
    "        z1 = sigmoid(a1) # sigmoid\n",
    "        a2 = np.dot(z1, W2) + b2 # 点积+偏置\n",
    "        y = softmax(a2) # softmax\n",
    "        \n",
    "        # backward\n",
    "        dy = (y - t) / batch_num # y：输出结果。t：监督数据\n",
    "        grads['W2'] = np.dot(z1.T, dy)\n",
    "        grads['b2'] = np.sum(dy, axis=0)\n",
    "        \n",
    "        da1 = np.dot(dy, W2.T)\n",
    "        dz1 = sigmoid_grad(a1) * da1\n",
    "        grads['W1'] = np.dot(x.T, dz1)\n",
    "        grads['b1'] = np.sum(dz1, axis=0)\n",
    "\n",
    "        return grads\n"
   ]
  },
  {
   "cell_type": "markdown",
   "metadata": {},
   "source": [
    "TwoLayerNet类中有params和grads两个字典型实例变量。params保存神经网络的参数的字典型变量（实例变量）。grads保存梯度的字典型变量（numerical_gradient()方法的返回值）"
   ]
  },
  {
   "cell_type": "code",
   "execution_count": 8,
   "metadata": {},
   "outputs": [
    {
     "name": "stdout",
     "output_type": "stream",
     "text": [
      "第一层的权重参数：(784, 100)\n",
      "第一层的偏置：(100,)\n",
      "第二层的权重参数：(100, 10)\n",
      "第二层的偏置：(10,)\n"
     ]
    }
   ],
   "source": [
    "net = TwoLayerNet(input_size=784, hidden_size=100,output_size=10)\n",
    "print('第一层的权重参数：' + str(net.params['W1'].shape))\n",
    "print('第一层的偏置：' + str(net.params['b1'].shape))\n",
    "print('第二层的权重参数：' + str(net.params['W2'].shape))\n",
    "print('第二层的偏置：' + str(net.params['b2'].shape))"
   ]
  },
  {
   "cell_type": "markdown",
   "metadata": {},
   "source": [
    "params变量中保存的权重参数会用在推理处理（前向处理）中，如下是推理处理的实现。"
   ]
  },
  {
   "cell_type": "code",
   "execution_count": 19,
   "metadata": {},
   "outputs": [
    {
     "name": "stdout",
     "output_type": "stream",
     "text": [
      "2\n",
      "(100, 10)\n"
     ]
    }
   ],
   "source": [
    "x = np.random.rand(100, 784) # 伪输入数据100笔\n",
    "y = net.predict(x)\n",
    "print(y.ndim) # 获得数组的维数\n",
    "print(y.shape) # 获得数组的（行数，列数） "
   ]
  },
  {
   "cell_type": "code",
   "execution_count": 22,
   "metadata": {},
   "outputs": [
    {
     "name": "stdout",
     "output_type": "stream",
     "text": [
      "第一层权重的梯度：(784, 100)\n",
      "第一层偏置的梯度：(100,)\n",
      "第二层权重的梯度：(100, 10)\n",
      "第二层偏置的梯度：(10,)\n"
     ]
    }
   ],
   "source": [
    "x = np.random.rand(100, 784) # 伪输入数据(100笔)\n",
    "t = np.random.rand(100, 10) # 伪正确解标签(100笔)\n",
    "\n",
    "grads = net.numerical_gradient(x, t) # 计算梯度\n",
    "\n",
    "print('第一层权重的梯度：' + str(grads['W1'].shape))\n",
    "print('第一层偏置的梯度：' + str(grads['b1'].shape))\n",
    "print('第二层权重的梯度：' + str(grads['W2'].shape))\n",
    "print('第二层偏置的梯度：' + str(grads['b2'].shape))\n",
    "# grads['W1'].shape\n",
    "# grads['b1'].shape\n",
    "# grads['W2'].shape\n",
    "# grads['b2'].shape"
   ]
  },
  {
   "cell_type": "markdown",
   "metadata": {},
   "source": [
    "4.5.2  mini-batch 的实现\n",
    "\n",
    "    mini-batch 学习，就是从训练数据中随机选择一部分数据（称为：mini-batch），再以这些mini-batch为对象，使用梯度法更新参数的过程。"
   ]
  },
  {
   "cell_type": "code",
   "execution_count": 14,
   "metadata": {},
   "outputs": [],
   "source": [
    "# coding: utf-8\n",
    "import sys, os\n",
    "sys.path.append(os.pardir)  # 为了导入父目录的文件而进行的设定\n",
    "import numpy as np\n",
    "import matplotlib.pyplot as plt\n",
    "from dataset.mnist import load_mnist\n",
    "# from two_layer_net import TwoLayerNet\n",
    "\n",
    "(x_train, t_train),(x_test, t_test) = load_mnist(normalize = True, one_hot_label = True)\n",
    "\n",
    "# 因机器性能原因，减少学习数据\n",
    "x_train = x_train[:5000]\n",
    "t_train = t_train[:5000]\n",
    "\n",
    "train_loss_list = []\n",
    "\n",
    "# 超参数\n",
    "# iters_num = 10000 # 适当设定循环的次数(迭代次数)\n",
    "iters_num = 10000\n",
    "train_size = x_train.shape[0] # 训练数据：60000个\n",
    "batch_size = 100 # 每次从60000个训练数据中随机取出100个数据(图像数据和正确解标签数据)\n",
    "learning_rate = 0.1 # 学习率\n",
    "\n",
    "network = TwoLayerNet(input_size=784, hidden_size=50, output_size=10)\n",
    "\n",
    "for i in range(iters_num):\n",
    "    # 获取 mini-batch\n",
    "    batch_mask = np.random.choice(train_size, batch_size)\n",
    "    x_batch = x_train[batch_mask]\n",
    "    t_batch = t_train[batch_mask]\n",
    "    \n",
    "    # 计算梯度\n",
    "#   grad = network.numerical_gradient(x_batch, t_batch)\n",
    "    grad = network.gradient(x_batch, t_batch) # numrical_gradiet()的高速版\n",
    "    \n",
    "    # 更新参数\n",
    "    for key in ('W1', 'b1', 'W2', 'b2'):\n",
    "        network.params[key] -= learning_rate * grad[key]\n",
    "        \n",
    "    # 记录学习过程\n",
    "    loss = network.loss(x_batch, t_batch)\n",
    "    train_loss_list.append(loss)\n",
    "    "
   ]
  },
  {
   "cell_type": "code",
   "execution_count": 15,
   "metadata": {},
   "outputs": [
    {
     "data": {
      "image/png": "[encoded data removed]",
      "text/plain": [
       "<Figure size 432x288 with 1 Axes>"
      ]
     },
     "metadata": {
      "needs_background": "light"
     },
     "output_type": "display_data"
    }
   ],
   "source": [
    "# 3.绘制图形==========\n",
    "markers = {'loss': 'o'}\n",
    "x = np.arange(iters_num)\n",
    "plt.plot(x, train_loss_list, marker='o', label='loss', markevery=10)\n",
    "# plt.plot(x, test_acc_list, marker='s', label='test', markevery=10)\n",
    "plt.xlabel(\"iteration\")\n",
    "plt.ylabel(\"loss\")\n",
    "plt.ylim(0, 10)\n",
    "plt.legend(loc='best')\n",
    "plt.show()"
   ]
  },
  {
   "cell_type": "code",
   "execution_count": 17,
   "metadata": {},
   "outputs": [
    {
     "name": "stdout",
     "output_type": "stream",
     "text": [
      "train acc === 0.107 |  test acc === 0.0982\n",
      "train acc === 0.2006 |  test acc === 0.1917\n",
      "train acc === 0.1742 |  test acc === 0.1686\n",
      "train acc === 0.1472 |  test acc === 0.1446\n",
      "train acc === 0.2914 |  test acc === 0.2825\n",
      "train acc === 0.4284 |  test acc === 0.4225\n",
      "train acc === 0.5308 |  test acc === 0.5269\n",
      "train acc === 0.586 |  test acc === 0.5786\n",
      "train acc === 0.663 |  test acc === 0.6631\n",
      "train acc === 0.6952 |  test acc === 0.6809\n",
      "train acc === 0.7544 |  test acc === 0.7444\n",
      "train acc === 0.7578 |  test acc === 0.7433\n",
      "train acc === 0.7874 |  test acc === 0.7749\n",
      "train acc === 0.8162 |  test acc === 0.8039\n",
      "train acc === 0.8406 |  test acc === 0.8239\n",
      "train acc === 0.8378 |  test acc === 0.8248\n",
      "train acc === 0.8526 |  test acc === 0.8367\n",
      "train acc === 0.8598 |  test acc === 0.8455\n",
      "train acc === 0.868 |  test acc === 0.8516\n",
      "train acc === 0.8712 |  test acc === 0.8565\n",
      "train acc === 0.8756 |  test acc === 0.8588\n",
      "train acc === 0.8816 |  test acc === 0.8661\n",
      "train acc === 0.886 |  test acc === 0.8665\n",
      "train acc === 0.8884 |  test acc === 0.87\n",
      "train acc === 0.8938 |  test acc === 0.8731\n",
      "train acc === 0.8948 |  test acc === 0.875\n",
      "train acc === 0.8986 |  test acc === 0.8766\n",
      "train acc === 0.9018 |  test acc === 0.88\n",
      "train acc === 0.9016 |  test acc === 0.8831\n",
      "train acc === 0.9046 |  test acc === 0.8831\n",
      "train acc === 0.9074 |  test acc === 0.8855\n",
      "train acc === 0.9102 |  test acc === 0.8863\n",
      "train acc === 0.9104 |  test acc === 0.8897\n",
      "train acc === 0.9082 |  test acc === 0.8895\n",
      "train acc === 0.9138 |  test acc === 0.8887\n",
      "train acc === 0.9148 |  test acc === 0.891\n",
      "train acc === 0.9134 |  test acc === 0.8928\n",
      "train acc === 0.9182 |  test acc === 0.8919\n",
      "train acc === 0.9182 |  test acc === 0.8928\n",
      "train acc === 0.92 |  test acc === 0.8946\n",
      "train acc === 0.92 |  test acc === 0.8953\n",
      "train acc === 0.9224 |  test acc === 0.8959\n",
      "train acc === 0.9216 |  test acc === 0.8957\n",
      "train acc === 0.9232 |  test acc === 0.8959\n",
      "train acc === 0.9242 |  test acc === 0.8956\n",
      "train acc === 0.9262 |  test acc === 0.8985\n",
      "train acc === 0.9272 |  test acc === 0.8985\n",
      "train acc === 0.929 |  test acc === 0.8998\n",
      "train acc === 0.9298 |  test acc === 0.8989\n",
      "train acc === 0.9294 |  test acc === 0.8997\n",
      "train acc === 0.9302 |  test acc === 0.9002\n",
      "train acc === 0.9312 |  test acc === 0.9002\n",
      "train acc === 0.9316 |  test acc === 0.9011\n",
      "train acc === 0.933 |  test acc === 0.9027\n",
      "train acc === 0.9328 |  test acc === 0.9014\n",
      "train acc === 0.9344 |  test acc === 0.9016\n",
      "train acc === 0.9348 |  test acc === 0.9035\n",
      "train acc === 0.9334 |  test acc === 0.904\n",
      "train acc === 0.9328 |  test acc === 0.9045\n",
      "train acc === 0.9358 |  test acc === 0.9032\n",
      "train acc === 0.938 |  test acc === 0.9045\n",
      "train acc === 0.938 |  test acc === 0.9059\n",
      "train acc === 0.939 |  test acc === 0.9061\n",
      "train acc === 0.9398 |  test acc === 0.9053\n",
      "train acc === 0.9388 |  test acc === 0.9064\n",
      "train acc === 0.9404 |  test acc === 0.9061\n",
      "train acc === 0.939 |  test acc === 0.9066\n",
      "train acc === 0.941 |  test acc === 0.9065\n",
      "train acc === 0.9402 |  test acc === 0.9068\n",
      "train acc === 0.9422 |  test acc === 0.9073\n",
      "train acc === 0.9416 |  test acc === 0.9089\n",
      "train acc === 0.9426 |  test acc === 0.9092\n",
      "train acc === 0.943 |  test acc === 0.9064\n",
      "train acc === 0.9428 |  test acc === 0.9092\n",
      "train acc === 0.9422 |  test acc === 0.9088\n",
      "train acc === 0.9438 |  test acc === 0.9095\n",
      "train acc === 0.9456 |  test acc === 0.9098\n",
      "train acc === 0.9466 |  test acc === 0.9111\n",
      "train acc === 0.948 |  test acc === 0.911\n",
      "train acc === 0.948 |  test acc === 0.9112\n",
      "train acc === 0.9474 |  test acc === 0.9109\n",
      "train acc === 0.9472 |  test acc === 0.9102\n",
      "train acc === 0.9482 |  test acc === 0.9114\n",
      "train acc === 0.9484 |  test acc === 0.9113\n",
      "train acc === 0.9488 |  test acc === 0.9115\n",
      "train acc === 0.9496 |  test acc === 0.9128\n",
      "train acc === 0.9492 |  test acc === 0.9121\n",
      "train acc === 0.9498 |  test acc === 0.913\n",
      "train acc === 0.949 |  test acc === 0.9114\n",
      "train acc === 0.9502 |  test acc === 0.9122\n",
      "train acc === 0.9502 |  test acc === 0.9121\n",
      "train acc === 0.9526 |  test acc === 0.9143\n",
      "train acc === 0.9508 |  test acc === 0.9138\n",
      "train acc === 0.9524 |  test acc === 0.9147\n",
      "train acc === 0.9518 |  test acc === 0.9149\n",
      "train acc === 0.9514 |  test acc === 0.913\n",
      "train acc === 0.9532 |  test acc === 0.9149\n",
      "train acc === 0.954 |  test acc === 0.9142\n",
      "train acc === 0.9538 |  test acc === 0.9153\n",
      "train acc === 0.9552 |  test acc === 0.9146\n",
      "train acc === 0.9562 |  test acc === 0.9153\n",
      "train acc === 0.956 |  test acc === 0.9164\n",
      "train acc === 0.9562 |  test acc === 0.9165\n",
      "train acc === 0.9574 |  test acc === 0.9158\n",
      "train acc === 0.9572 |  test acc === 0.9159\n",
      "train acc === 0.9588 |  test acc === 0.915\n",
      "train acc === 0.957 |  test acc === 0.9162\n",
      "train acc === 0.9576 |  test acc === 0.9159\n",
      "train acc === 0.958 |  test acc === 0.916\n",
      "train acc === 0.9592 |  test acc === 0.9165\n",
      "train acc === 0.9594 |  test acc === 0.916\n",
      "train acc === 0.9606 |  test acc === 0.9176\n",
      "train acc === 0.9602 |  test acc === 0.9174\n",
      "train acc === 0.9616 |  test acc === 0.9179\n",
      "train acc === 0.9604 |  test acc === 0.9167\n",
      "train acc === 0.961 |  test acc === 0.9162\n",
      "train acc === 0.9624 |  test acc === 0.9168\n",
      "train acc === 0.9608 |  test acc === 0.9163\n",
      "train acc === 0.962 |  test acc === 0.9173\n",
      "train acc === 0.9612 |  test acc === 0.9176\n",
      "train acc === 0.9632 |  test acc === 0.9177\n",
      "train acc === 0.9634 |  test acc === 0.9182\n",
      "train acc === 0.964 |  test acc === 0.9182\n",
      "train acc === 0.9636 |  test acc === 0.9184\n",
      "train acc === 0.9646 |  test acc === 0.9181\n",
      "train acc === 0.9652 |  test acc === 0.9187\n",
      "train acc === 0.9642 |  test acc === 0.918\n",
      "train acc === 0.9666 |  test acc === 0.9194\n",
      "train acc === 0.965 |  test acc === 0.9188\n",
      "train acc === 0.9662 |  test acc === 0.9193\n",
      "train acc === 0.967 |  test acc === 0.9187\n",
      "train acc === 0.9676 |  test acc === 0.9191\n",
      "train acc === 0.968 |  test acc === 0.9188\n",
      "train acc === 0.9674 |  test acc === 0.9189\n",
      "train acc === 0.9676 |  test acc === 0.919\n",
      "train acc === 0.969 |  test acc === 0.919\n",
      "train acc === 0.9688 |  test acc === 0.9193\n",
      "train acc === 0.9684 |  test acc === 0.92\n",
      "train acc === 0.9696 |  test acc === 0.9198\n",
      "train acc === 0.9698 |  test acc === 0.9191\n",
      "train acc === 0.9698 |  test acc === 0.9209\n",
      "train acc === 0.9688 |  test acc === 0.9197\n",
      "train acc === 0.9696 |  test acc === 0.9199\n",
      "train acc === 0.9692 |  test acc === 0.9195\n",
      "train acc === 0.9712 |  test acc === 0.9204\n",
      "train acc === 0.9702 |  test acc === 0.9212\n",
      "train acc === 0.9708 |  test acc === 0.9197\n",
      "train acc === 0.9718 |  test acc === 0.9202\n",
      "train acc === 0.9708 |  test acc === 0.921\n",
      "train acc === 0.972 |  test acc === 0.9206\n",
      "train acc === 0.972 |  test acc === 0.9212\n",
      "train acc === 0.9726 |  test acc === 0.9198\n",
      "train acc === 0.9728 |  test acc === 0.921\n",
      "train acc === 0.9728 |  test acc === 0.9198\n",
      "train acc === 0.973 |  test acc === 0.9204\n",
      "train acc === 0.9728 |  test acc === 0.9209\n",
      "train acc === 0.9734 |  test acc === 0.9219\n",
      "train acc === 0.9746 |  test acc === 0.9217\n",
      "train acc === 0.9744 |  test acc === 0.9216\n",
      "train acc === 0.9742 |  test acc === 0.9216\n",
      "train acc === 0.974 |  test acc === 0.9215\n",
      "train acc === 0.975 |  test acc === 0.9218\n",
      "train acc === 0.9754 |  test acc === 0.9226\n",
      "train acc === 0.9752 |  test acc === 0.9222\n",
      "train acc === 0.9758 |  test acc === 0.9221\n",
      "train acc === 0.9768 |  test acc === 0.9212\n",
      "train acc === 0.9754 |  test acc === 0.922\n",
      "train acc === 0.9764 |  test acc === 0.922\n",
      "train acc === 0.9758 |  test acc === 0.9215\n",
      "train acc === 0.977 |  test acc === 0.9225\n",
      "train acc === 0.977 |  test acc === 0.9216\n",
      "train acc === 0.9768 |  test acc === 0.9217\n",
      "train acc === 0.9776 |  test acc === 0.9229\n",
      "train acc === 0.9776 |  test acc === 0.9229\n",
      "train acc === 0.9778 |  test acc === 0.9222\n",
      "train acc === 0.9786 |  test acc === 0.9213\n",
      "train acc === 0.979 |  test acc === 0.9237\n",
      "train acc === 0.9778 |  test acc === 0.9224\n",
      "train acc === 0.9782 |  test acc === 0.9218\n",
      "train acc === 0.9784 |  test acc === 0.9237\n",
      "train acc === 0.9778 |  test acc === 0.9228\n",
      "train acc === 0.9792 |  test acc === 0.9237\n",
      "train acc === 0.9794 |  test acc === 0.9225\n",
      "train acc === 0.979 |  test acc === 0.9229\n",
      "train acc === 0.9786 |  test acc === 0.9222\n",
      "train acc === 0.9802 |  test acc === 0.9235\n",
      "train acc === 0.9804 |  test acc === 0.9236\n",
      "train acc === 0.981 |  test acc === 0.9234\n"
     ]
    },
    {
     "name": "stdout",
     "output_type": "stream",
     "text": [
      "train acc === 0.9812 |  test acc === 0.9235\n",
      "train acc === 0.9808 |  test acc === 0.9237\n",
      "train acc === 0.981 |  test acc === 0.9234\n",
      "train acc === 0.9804 |  test acc === 0.9244\n",
      "train acc === 0.9814 |  test acc === 0.9227\n",
      "train acc === 0.9816 |  test acc === 0.924\n",
      "train acc === 0.9822 |  test acc === 0.9239\n",
      "train acc === 0.9826 |  test acc === 0.9235\n",
      "train acc === 0.9832 |  test acc === 0.924\n",
      "train acc === 0.9832 |  test acc === 0.9235\n",
      "train acc === 0.9822 |  test acc === 0.9236\n",
      "train acc === 0.984 |  test acc === 0.925\n"
     ]
    },
    {
     "data": {
      "image/png": "[encoded data removed]",
      "text/plain": [
       "<Figure size 432x288 with 1 Axes>"
      ]
     },
     "metadata": {
      "needs_background": "light"
     },
     "output_type": "display_data"
    }
   ],
   "source": [
    "# coding: utf-8\n",
    "import sys, os\n",
    "sys.path.append(os.pardir)  # 为了导入父目录的文件而进行的设定\n",
    "import numpy as np\n",
    "import matplotlib.pyplot as plt\n",
    "from dataset.mnist import load_mnist\n",
    "# from two_layer_net import TwoLayerNet\n",
    "\n",
    "# 读入数据\n",
    "(x_train, t_train), (x_test, t_test) = load_mnist(normalize=True, one_hot_label=True)\n",
    "\n",
    "# 因机器性能原因，减少学习数据\n",
    "x_train = x_train[:5000]\n",
    "t_train = t_train[:5000]\n",
    "\n",
    "network = TwoLayerNet(input_size=784, hidden_size=50, output_size=10)\n",
    "\n",
    "iters_num = 10000  # 适当设定循环的次数\n",
    "train_size = x_train.shape[0]\n",
    "batch_size = 100\n",
    "learning_rate = 0.1\n",
    "\n",
    "train_loss_list = []\n",
    "train_acc_list = []\n",
    "test_acc_list = []\n",
    "\n",
    "iter_per_epoch = max(train_size / batch_size, 1)\n",
    "\n",
    "for i in range(iters_num):\n",
    "    batch_mask = np.random.choice(train_size, batch_size)\n",
    "    x_batch = x_train[batch_mask]\n",
    "    t_batch = t_train[batch_mask]\n",
    "    \n",
    "    # 计算梯度\n",
    "    #grad = network.numerical_gradient(x_batch, t_batch)\n",
    "    grad = network.gradient(x_batch, t_batch)\n",
    "    \n",
    "    # 更新参数\n",
    "    for key in ('W1', 'b1', 'W2', 'b2'):\n",
    "        network.params[key] -= learning_rate * grad[key]\n",
    "    \n",
    "    loss = network.loss(x_batch, t_batch)\n",
    "    train_loss_list.append(loss)\n",
    "    \n",
    "    if i % iter_per_epoch == 0:\n",
    "        train_acc = network.accuracy(x_train, t_train)\n",
    "        test_acc = network.accuracy(x_test, t_test)\n",
    "        train_acc_list.append(train_acc)\n",
    "        test_acc_list.append(test_acc)\n",
    "        print(\"train acc === \" + str(train_acc) +\" | \"+ \" test acc === \" + str(test_acc))\n",
    "\n",
    "# 绘制图形\n",
    "markers = {'train': 'o', 'test': 's'}\n",
    "x = np.arange(len(train_acc_list))\n",
    "plt.plot(x, train_acc_list, label='train acc')\n",
    "plt.plot(x, test_acc_list, label='test acc', linestyle='--')\n",
    "plt.xlabel(\"epochs\")\n",
    "plt.ylabel(\"accuracy\")\n",
    "plt.ylim(0, 1.0)\n",
    "plt.legend(loc='lower right')\n",
    "plt.show()"
   ]
  }
 ],
 "metadata": {
  "kernelspec": {
   "display_name": "Python 3",
   "language": "python",
   "name": "python3"
  },
  "language_info": {
   "codemirror_mode": {
    "name": "ipython",
    "version": 3
   },
   "file_extension": ".py",
   "mimetype": "text/x-python",
   "name": "python",
   "nbconvert_exporter": "python",
   "pygments_lexer": "ipython3",
   "version": "3.6.7"
  }
 },
 "nbformat": 4,
 "nbformat_minor": 2
}
